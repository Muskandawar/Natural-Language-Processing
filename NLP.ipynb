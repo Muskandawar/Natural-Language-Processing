{
  "nbformat": 4,
  "nbformat_minor": 0,
  "metadata": {
    "colab": {
      "name": "NLP.ipynb",
      "provenance": []
    },
    "kernelspec": {
      "name": "python3",
      "display_name": "Python 3"
    }
  },
  "cells": [
    {
      "cell_type": "code",
      "metadata": {
        "id": "noE6XIAMG4LO",
        "colab_type": "code",
        "colab": {}
      },
      "source": [
        "from google.colab import drive\n",
        "drive.mount('/content/drive')"
      ],
      "execution_count": 0,
      "outputs": []
    },
    {
      "cell_type": "code",
      "metadata": {
        "id": "mEhf3auOI_Xg",
        "colab_type": "code",
        "colab": {}
      },
      "source": [
        "import numpy as np\n",
        "import pandas as pd\n",
        "import matplotlib.pyplot as plt\n",
        "import re\n",
        "import nltk\n",
        "from nltk.corpus import stopwords\n",
        "from nltk.stem.porter import PorterStemmer\n",
        "from sklearn.feature_extraction.text import CountVectorizer\n",
        "from sklearn.naive_bayes import GaussianNB\n",
        "from sklearn.metrics import accuracy_score,confusion_matrix,f1_score\n",
        "from sklearn.model_selection import train_test_split\n",
        "from sklearn.tree import DecisionTreeClassifier\n",
        "from sklearn.ensemble import RandomForestClassifier"
      ],
      "execution_count": 0,
      "outputs": []
    },
    {
      "cell_type": "code",
      "metadata": {
        "id": "MCVBQQ90JDg4",
        "colab_type": "code",
        "colab": {}
      },
      "source": [
        "dataset=pd.read_csv('/content/drive/My Drive/Restaurant_Reviews.tsv',delimiter='\\t',quoting=3) #quoting=3 means ignore double quotes"
      ],
      "execution_count": 0,
      "outputs": []
    },
    {
      "cell_type": "code",
      "metadata": {
        "id": "DaXraX4_YNTo",
        "colab_type": "code",
        "colab": {}
      },
      "source": [
        "nltk.download('stopwords')"
      ],
      "execution_count": 0,
      "outputs": []
    },
    {
      "cell_type": "markdown",
      "metadata": {
        "id": "BVOE9NhQUttj",
        "colab_type": "text"
      },
      "source": [
        "CLEANING DATA"
      ]
    },
    {
      "cell_type": "code",
      "metadata": {
        "id": "K4NOjaknO4KU",
        "colab_type": "code",
        "colab": {}
      },
      "source": [
        "# cleaning the texts # remove prep,verbs and all i.e stopwords and stemming words for ex make love of loved\n",
        "corpus=[]\n",
        "for i in range(0,1000):\n",
        "  review=re.sub('[^a-zA-Z]',' ',dataset['Review'][i])  # here space means remove char be replaced with it\n",
        "  review=review.lower()\n",
        "  review=review.split()\n",
        "  ps=PorterStemmer()\n",
        "  review= [ps.stem(word) for word in review if not word in set(stopwords.words('english'))]\n",
        "  # joining list to string for model\n",
        "  review=' '.join(review)\n",
        "  corpus.append(review)"
      ],
      "execution_count": 0,
      "outputs": []
    },
    {
      "cell_type": "markdown",
      "metadata": {
        "id": "JT5p_mX7Zgly",
        "colab_type": "text"
      },
      "source": [
        "CREATING BAG OF WORDS MODEL"
      ]
    },
    {
      "cell_type": "code",
      "metadata": {
        "id": "izdZScUPXgEY",
        "colab_type": "code",
        "colab": {}
      },
      "source": [
        "cv=CountVectorizer(max_features=1500) # max_features filter top 1500 freq words only\n",
        "X=cv.fit_transform(corpus).toarray()\n",
        "# it creates rows of reviews and columns of unique words and store count of each word making the classification model"
      ],
      "execution_count": 0,
      "outputs": []
    },
    {
      "cell_type": "code",
      "metadata": {
        "id": "73FH9Y4agcZ1",
        "colab_type": "code",
        "colab": {}
      },
      "source": [
        "y=dataset.iloc[:,1].values"
      ],
      "execution_count": 0,
      "outputs": []
    },
    {
      "cell_type": "markdown",
      "metadata": {
        "id": "fJ_hAhbhc2Ea",
        "colab_type": "text"
      },
      "source": [
        "**PRECISION AND RECALL**\n",
        "\n",
        "Precision is the fraction of information retrieved that are relevant\n",
        "Recall is the fraction of relevant information that are retrieved\n",
        "precision is: Of all patients we predicted have cancer, what fraction of them actually have cancer?\n",
        "And recall is: Of all patients in the set that actually have cancer, what fraction did we correctly detect?\n",
        "\n",
        "**precision-> tp/tp+fp**\n",
        "\n",
        "**recall->tp/tp+fn**\n",
        "\n",
        " **f1->2*p*r/(p+r)**\n"
      ]
    },
    {
      "cell_type": "markdown",
      "metadata": {
        "id": "-whtBhKvhqJC",
        "colab_type": "text"
      },
      "source": [
        "FITTING THE NAIVE BAYES MODEL"
      ]
    },
    {
      "cell_type": "code",
      "metadata": {
        "id": "4mAyc-5zhh-P",
        "colab_type": "code",
        "colab": {}
      },
      "source": [
        "X_train,X_test,y_train,y_test=train_test_split(X,y,test_size=0.25,random_state=0)"
      ],
      "execution_count": 0,
      "outputs": []
    },
    {
      "cell_type": "code",
      "metadata": {
        "id": "-7lUnA8UiWTb",
        "colab_type": "code",
        "outputId": "a7d612b5-8677-4fa8-bfc4-55e394a46e83",
        "colab": {
          "base_uri": "https://localhost:8080/",
          "height": 34
        }
      },
      "source": [
        "classifier4=GaussianNB()\n",
        "classifier4.fit(X_train,y_train)"
      ],
      "execution_count": 32,
      "outputs": [
        {
          "output_type": "execute_result",
          "data": {
            "text/plain": [
              "GaussianNB(priors=None, var_smoothing=1e-09)"
            ]
          },
          "metadata": {
            "tags": []
          },
          "execution_count": 32
        }
      ]
    },
    {
      "cell_type": "code",
      "metadata": {
        "id": "cc_OPI-tiW5Q",
        "colab_type": "code",
        "outputId": "1cea6052-cbde-43f8-89b0-ac15feb6c939",
        "colab": {
          "base_uri": "https://localhost:8080/",
          "height": 34
        }
      },
      "source": [
        "y_pred=classifier4.predict(X_test)\n",
        "accuracy_score(y_test,y_pred)"
      ],
      "execution_count": 33,
      "outputs": [
        {
          "output_type": "execute_result",
          "data": {
            "text/plain": [
              "0.72"
            ]
          },
          "metadata": {
            "tags": []
          },
          "execution_count": 33
        }
      ]
    },
    {
      "cell_type": "code",
      "metadata": {
        "id": "fPcDdThRiYzP",
        "colab_type": "code",
        "colab": {}
      },
      "source": [
        "cm=confusion_matrix(y_test,y_pred)"
      ],
      "execution_count": 0,
      "outputs": []
    },
    {
      "cell_type": "markdown",
      "metadata": {
        "id": "ufMR6F1vYXEK",
        "colab_type": "text"
      },
      "source": [
        "FITTING DECISION TREE AND RANDOM FOREST"
      ]
    },
    {
      "cell_type": "code",
      "metadata": {
        "id": "U7z3GcbpYZ_C",
        "colab_type": "code",
        "colab": {}
      },
      "source": [
        "classifier5=DecisionTreeClassifier(criterion='entropy',random_state=0)\n",
        "classifier5.fit(X_train,y_train)"
      ],
      "execution_count": 0,
      "outputs": []
    },
    {
      "cell_type": "code",
      "metadata": {
        "id": "UM656xW_YhTW",
        "colab_type": "code",
        "colab": {}
      },
      "source": [
        "y_pred=classifier5.predict(X_test)\n",
        "accuracy_score(y_test,y_pred)"
      ],
      "execution_count": 0,
      "outputs": []
    },
    {
      "cell_type": "code",
      "metadata": {
        "id": "MbByzJwdYi7f",
        "colab_type": "code",
        "colab": {}
      },
      "source": [
        "classifier6=RandomForestClassifier(n_estimators=10,criterion='entropy',random_state=0)\n",
        "classifier6.fit(X_train,y_train)"
      ],
      "execution_count": 0,
      "outputs": []
    },
    {
      "cell_type": "code",
      "metadata": {
        "id": "r2-vrxuPYpuG",
        "colab_type": "code",
        "colab": {}
      },
      "source": [
        "y_pred=classifier6.predict(X_test)\n",
        "accuracy_score(y_test,y_pred)"
      ],
      "execution_count": 0,
      "outputs": []
    },
    {
      "cell_type": "markdown",
      "metadata": {
        "id": "w4B-IVw_gYre",
        "colab_type": "text"
      },
      "source": [
        "calculating precision,recall and f1"
      ]
    },
    {
      "cell_type": "code",
      "metadata": {
        "id": "X1sHvAdLemET",
        "colab_type": "code",
        "colab": {}
      },
      "source": [
        "cm=confusion_matrix(y_test,y_pred)\n",
        "cm"
      ],
      "execution_count": 0,
      "outputs": []
    },
    {
      "cell_type": "code",
      "metadata": {
        "id": "4ch9mkN2ehC_",
        "colab_type": "code",
        "colab": {}
      },
      "source": [
        "precision=cm[0][0]/(cm[0][0]+cm[0][1])\n",
        "recall=cm[0][0]/(cm[0][0]+cm[1][0])"
      ],
      "execution_count": 0,
      "outputs": []
    },
    {
      "cell_type": "code",
      "metadata": {
        "id": "ug6o1nIvfSkM",
        "colab_type": "code",
        "colab": {}
      },
      "source": [
        "f1=2*precision*recall/(precision+recall)\n",
        "f1"
      ],
      "execution_count": 0,
      "outputs": []
    }
  ]
}